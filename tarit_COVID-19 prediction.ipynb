{
    "cells": [
        {
            "cell_type": "code",
            "execution_count": 5,
            "metadata": {},
            "outputs": [],
            "source": "import pandas as pd"
        },
        {
            "cell_type": "code",
            "execution_count": 13,
            "metadata": {},
            "outputs": [
                {
                    "data": {
                        "text/html": "<div>\n<style scoped>\n    .dataframe tbody tr th:only-of-type {\n        vertical-align: middle;\n    }\n\n    .dataframe tbody tr th {\n        vertical-align: top;\n    }\n\n    .dataframe thead th {\n        text-align: right;\n    }\n</style>\n<table border=\"1\" class=\"dataframe\">\n  <thead>\n    <tr style=\"text-align: right;\">\n      <th></th>\n      <th>fever</th>\n      <th>bodyPain</th>\n      <th>age</th>\n      <th>runnyNose</th>\n      <th>diffBreath</th>\n      <th>infectionProb</th>\n    </tr>\n  </thead>\n  <tbody>\n    <tr>\n      <th>0</th>\n      <td>97.784580</td>\n      <td>0</td>\n      <td>51</td>\n      <td>0</td>\n      <td>1</td>\n      <td>0</td>\n    </tr>\n    <tr>\n      <th>1</th>\n      <td>100.187984</td>\n      <td>1</td>\n      <td>79</td>\n      <td>0</td>\n      <td>1</td>\n      <td>0</td>\n    </tr>\n    <tr>\n      <th>2</th>\n      <td>100.838977</td>\n      <td>0</td>\n      <td>81</td>\n      <td>1</td>\n      <td>1</td>\n      <td>0</td>\n    </tr>\n    <tr>\n      <th>3</th>\n      <td>97.455994</td>\n      <td>0</td>\n      <td>17</td>\n      <td>0</td>\n      <td>-1</td>\n      <td>0</td>\n    </tr>\n    <tr>\n      <th>4</th>\n      <td>98.473230</td>\n      <td>0</td>\n      <td>48</td>\n      <td>0</td>\n      <td>1</td>\n      <td>1</td>\n    </tr>\n  </tbody>\n</table>\n</div>",
                        "text/plain": "        fever  bodyPain  age  runnyNose  diffBreath  infectionProb\n0   97.784580         0   51          0           1              0\n1  100.187984         1   79          0           1              0\n2  100.838977         0   81          1           1              0\n3   97.455994         0   17          0          -1              0\n4   98.473230         0   48          0           1              1"
                    },
                    "execution_count": 13,
                    "metadata": {},
                    "output_type": "execute_result"
                }
            ],
            "source": "# The code was removed by Watson Studio for sharing."
        },
        {
            "cell_type": "code",
            "execution_count": 14,
            "metadata": {},
            "outputs": [
                {
                    "data": {
                        "text/html": "<div>\n<style scoped>\n    .dataframe tbody tr th:only-of-type {\n        vertical-align: middle;\n    }\n\n    .dataframe tbody tr th {\n        vertical-align: top;\n    }\n\n    .dataframe thead th {\n        text-align: right;\n    }\n</style>\n<table border=\"1\" class=\"dataframe\">\n  <thead>\n    <tr style=\"text-align: right;\">\n      <th></th>\n      <th>fever</th>\n      <th>bodyPain</th>\n      <th>age</th>\n      <th>runnyNose</th>\n      <th>diffBreath</th>\n      <th>infectionProb</th>\n    </tr>\n  </thead>\n  <tbody>\n    <tr>\n      <th>0</th>\n      <td>97.784580</td>\n      <td>0</td>\n      <td>51</td>\n      <td>0</td>\n      <td>1</td>\n      <td>0</td>\n    </tr>\n    <tr>\n      <th>1</th>\n      <td>100.187984</td>\n      <td>1</td>\n      <td>79</td>\n      <td>0</td>\n      <td>1</td>\n      <td>0</td>\n    </tr>\n    <tr>\n      <th>2</th>\n      <td>100.838977</td>\n      <td>0</td>\n      <td>81</td>\n      <td>1</td>\n      <td>1</td>\n      <td>0</td>\n    </tr>\n    <tr>\n      <th>3</th>\n      <td>97.455994</td>\n      <td>0</td>\n      <td>17</td>\n      <td>0</td>\n      <td>-1</td>\n      <td>0</td>\n    </tr>\n    <tr>\n      <th>4</th>\n      <td>98.473230</td>\n      <td>0</td>\n      <td>48</td>\n      <td>0</td>\n      <td>1</td>\n      <td>1</td>\n    </tr>\n    <tr>\n      <th>5</th>\n      <td>100.311724</td>\n      <td>1</td>\n      <td>36</td>\n      <td>1</td>\n      <td>0</td>\n      <td>0</td>\n    </tr>\n    <tr>\n      <th>6</th>\n      <td>98.625183</td>\n      <td>1</td>\n      <td>35</td>\n      <td>0</td>\n      <td>0</td>\n      <td>1</td>\n    </tr>\n    <tr>\n      <th>7</th>\n      <td>97.697418</td>\n      <td>0</td>\n      <td>99</td>\n      <td>0</td>\n      <td>1</td>\n      <td>0</td>\n    </tr>\n    <tr>\n      <th>8</th>\n      <td>100.734535</td>\n      <td>1</td>\n      <td>47</td>\n      <td>0</td>\n      <td>0</td>\n      <td>0</td>\n    </tr>\n    <tr>\n      <th>9</th>\n      <td>100.735405</td>\n      <td>0</td>\n      <td>64</td>\n      <td>0</td>\n      <td>-1</td>\n      <td>1</td>\n    </tr>\n    <tr>\n      <th>10</th>\n      <td>97.328843</td>\n      <td>0</td>\n      <td>16</td>\n      <td>1</td>\n      <td>1</td>\n      <td>1</td>\n    </tr>\n    <tr>\n      <th>11</th>\n      <td>97.484206</td>\n      <td>1</td>\n      <td>94</td>\n      <td>1</td>\n      <td>0</td>\n      <td>1</td>\n    </tr>\n    <tr>\n      <th>12</th>\n      <td>99.700346</td>\n      <td>1</td>\n      <td>28</td>\n      <td>1</td>\n      <td>-1</td>\n      <td>1</td>\n    </tr>\n    <tr>\n      <th>13</th>\n      <td>97.862108</td>\n      <td>1</td>\n      <td>57</td>\n      <td>1</td>\n      <td>-1</td>\n      <td>1</td>\n    </tr>\n    <tr>\n      <th>14</th>\n      <td>100.703156</td>\n      <td>1</td>\n      <td>9</td>\n      <td>1</td>\n      <td>-1</td>\n      <td>0</td>\n    </tr>\n    <tr>\n      <th>15</th>\n      <td>99.943704</td>\n      <td>1</td>\n      <td>54</td>\n      <td>0</td>\n      <td>-1</td>\n      <td>0</td>\n    </tr>\n    <tr>\n      <th>16</th>\n      <td>99.846167</td>\n      <td>1</td>\n      <td>39</td>\n      <td>0</td>\n      <td>0</td>\n      <td>1</td>\n    </tr>\n    <tr>\n      <th>17</th>\n      <td>98.071585</td>\n      <td>1</td>\n      <td>84</td>\n      <td>1</td>\n      <td>1</td>\n      <td>0</td>\n    </tr>\n    <tr>\n      <th>18</th>\n      <td>100.787850</td>\n      <td>0</td>\n      <td>3</td>\n      <td>0</td>\n      <td>0</td>\n      <td>0</td>\n    </tr>\n    <tr>\n      <th>19</th>\n      <td>99.318770</td>\n      <td>0</td>\n      <td>95</td>\n      <td>0</td>\n      <td>1</td>\n      <td>1</td>\n    </tr>\n    <tr>\n      <th>20</th>\n      <td>98.814713</td>\n      <td>1</td>\n      <td>26</td>\n      <td>0</td>\n      <td>0</td>\n      <td>1</td>\n    </tr>\n    <tr>\n      <th>21</th>\n      <td>97.634608</td>\n      <td>0</td>\n      <td>7</td>\n      <td>1</td>\n      <td>-1</td>\n      <td>0</td>\n    </tr>\n    <tr>\n      <th>22</th>\n      <td>99.470235</td>\n      <td>1</td>\n      <td>46</td>\n      <td>0</td>\n      <td>1</td>\n      <td>0</td>\n    </tr>\n    <tr>\n      <th>23</th>\n      <td>99.657235</td>\n      <td>0</td>\n      <td>38</td>\n      <td>0</td>\n      <td>0</td>\n      <td>0</td>\n    </tr>\n    <tr>\n      <th>24</th>\n      <td>100.645917</td>\n      <td>0</td>\n      <td>0</td>\n      <td>0</td>\n      <td>1</td>\n      <td>1</td>\n    </tr>\n    <tr>\n      <th>25</th>\n      <td>99.507992</td>\n      <td>1</td>\n      <td>15</td>\n      <td>1</td>\n      <td>-1</td>\n      <td>0</td>\n    </tr>\n    <tr>\n      <th>26</th>\n      <td>100.789260</td>\n      <td>1</td>\n      <td>62</td>\n      <td>0</td>\n      <td>0</td>\n      <td>1</td>\n    </tr>\n    <tr>\n      <th>27</th>\n      <td>100.985346</td>\n      <td>1</td>\n      <td>21</td>\n      <td>1</td>\n      <td>-1</td>\n      <td>0</td>\n    </tr>\n    <tr>\n      <th>28</th>\n      <td>98.156717</td>\n      <td>1</td>\n      <td>75</td>\n      <td>1</td>\n      <td>0</td>\n      <td>1</td>\n    </tr>\n    <tr>\n      <th>29</th>\n      <td>98.140420</td>\n      <td>1</td>\n      <td>8</td>\n      <td>1</td>\n      <td>-1</td>\n      <td>1</td>\n    </tr>\n    <tr>\n      <th>...</th>\n      <td>...</td>\n      <td>...</td>\n      <td>...</td>\n      <td>...</td>\n      <td>...</td>\n      <td>...</td>\n    </tr>\n    <tr>\n      <th>2245</th>\n      <td>99.061297</td>\n      <td>1</td>\n      <td>46</td>\n      <td>1</td>\n      <td>-1</td>\n      <td>1</td>\n    </tr>\n    <tr>\n      <th>2246</th>\n      <td>98.719925</td>\n      <td>0</td>\n      <td>36</td>\n      <td>1</td>\n      <td>1</td>\n      <td>0</td>\n    </tr>\n    <tr>\n      <th>2247</th>\n      <td>98.102327</td>\n      <td>0</td>\n      <td>32</td>\n      <td>1</td>\n      <td>0</td>\n      <td>0</td>\n    </tr>\n    <tr>\n      <th>2248</th>\n      <td>99.042230</td>\n      <td>0</td>\n      <td>100</td>\n      <td>1</td>\n      <td>1</td>\n      <td>0</td>\n    </tr>\n    <tr>\n      <th>2249</th>\n      <td>97.124860</td>\n      <td>1</td>\n      <td>41</td>\n      <td>1</td>\n      <td>0</td>\n      <td>1</td>\n    </tr>\n    <tr>\n      <th>2250</th>\n      <td>97.505658</td>\n      <td>0</td>\n      <td>53</td>\n      <td>0</td>\n      <td>1</td>\n      <td>0</td>\n    </tr>\n    <tr>\n      <th>2251</th>\n      <td>98.060764</td>\n      <td>0</td>\n      <td>46</td>\n      <td>0</td>\n      <td>0</td>\n      <td>1</td>\n    </tr>\n    <tr>\n      <th>2252</th>\n      <td>100.587615</td>\n      <td>0</td>\n      <td>71</td>\n      <td>0</td>\n      <td>1</td>\n      <td>0</td>\n    </tr>\n    <tr>\n      <th>2253</th>\n      <td>99.312626</td>\n      <td>0</td>\n      <td>29</td>\n      <td>0</td>\n      <td>0</td>\n      <td>1</td>\n    </tr>\n    <tr>\n      <th>2254</th>\n      <td>99.051154</td>\n      <td>1</td>\n      <td>98</td>\n      <td>1</td>\n      <td>0</td>\n      <td>1</td>\n    </tr>\n    <tr>\n      <th>2255</th>\n      <td>98.337541</td>\n      <td>0</td>\n      <td>84</td>\n      <td>1</td>\n      <td>1</td>\n      <td>1</td>\n    </tr>\n    <tr>\n      <th>2256</th>\n      <td>98.674697</td>\n      <td>0</td>\n      <td>4</td>\n      <td>0</td>\n      <td>1</td>\n      <td>1</td>\n    </tr>\n    <tr>\n      <th>2257</th>\n      <td>100.538396</td>\n      <td>0</td>\n      <td>97</td>\n      <td>0</td>\n      <td>1</td>\n      <td>1</td>\n    </tr>\n    <tr>\n      <th>2258</th>\n      <td>100.340706</td>\n      <td>0</td>\n      <td>16</td>\n      <td>0</td>\n      <td>0</td>\n      <td>0</td>\n    </tr>\n    <tr>\n      <th>2259</th>\n      <td>99.035123</td>\n      <td>1</td>\n      <td>13</td>\n      <td>0</td>\n      <td>1</td>\n      <td>1</td>\n    </tr>\n    <tr>\n      <th>2260</th>\n      <td>97.215474</td>\n      <td>0</td>\n      <td>19</td>\n      <td>1</td>\n      <td>1</td>\n      <td>1</td>\n    </tr>\n    <tr>\n      <th>2261</th>\n      <td>99.474916</td>\n      <td>0</td>\n      <td>29</td>\n      <td>0</td>\n      <td>1</td>\n      <td>1</td>\n    </tr>\n    <tr>\n      <th>2262</th>\n      <td>100.002892</td>\n      <td>0</td>\n      <td>86</td>\n      <td>0</td>\n      <td>1</td>\n      <td>1</td>\n    </tr>\n    <tr>\n      <th>2263</th>\n      <td>100.925130</td>\n      <td>0</td>\n      <td>99</td>\n      <td>0</td>\n      <td>0</td>\n      <td>0</td>\n    </tr>\n    <tr>\n      <th>2264</th>\n      <td>98.143359</td>\n      <td>0</td>\n      <td>9</td>\n      <td>0</td>\n      <td>1</td>\n      <td>0</td>\n    </tr>\n    <tr>\n      <th>2265</th>\n      <td>100.037094</td>\n      <td>0</td>\n      <td>4</td>\n      <td>1</td>\n      <td>1</td>\n      <td>1</td>\n    </tr>\n    <tr>\n      <th>2266</th>\n      <td>100.954832</td>\n      <td>1</td>\n      <td>74</td>\n      <td>1</td>\n      <td>-1</td>\n      <td>0</td>\n    </tr>\n    <tr>\n      <th>2267</th>\n      <td>97.646866</td>\n      <td>0</td>\n      <td>54</td>\n      <td>0</td>\n      <td>1</td>\n      <td>1</td>\n    </tr>\n    <tr>\n      <th>2268</th>\n      <td>98.670778</td>\n      <td>0</td>\n      <td>84</td>\n      <td>1</td>\n      <td>-1</td>\n      <td>0</td>\n    </tr>\n    <tr>\n      <th>2269</th>\n      <td>97.877651</td>\n      <td>0</td>\n      <td>45</td>\n      <td>1</td>\n      <td>-1</td>\n      <td>0</td>\n    </tr>\n    <tr>\n      <th>2270</th>\n      <td>98.344591</td>\n      <td>1</td>\n      <td>18</td>\n      <td>0</td>\n      <td>-1</td>\n      <td>1</td>\n    </tr>\n    <tr>\n      <th>2271</th>\n      <td>97.945532</td>\n      <td>0</td>\n      <td>52</td>\n      <td>1</td>\n      <td>0</td>\n      <td>0</td>\n    </tr>\n    <tr>\n      <th>2272</th>\n      <td>97.836398</td>\n      <td>0</td>\n      <td>84</td>\n      <td>0</td>\n      <td>1</td>\n      <td>0</td>\n    </tr>\n    <tr>\n      <th>2273</th>\n      <td>99.298029</td>\n      <td>0</td>\n      <td>43</td>\n      <td>1</td>\n      <td>-1</td>\n      <td>0</td>\n    </tr>\n    <tr>\n      <th>2274</th>\n      <td>100.078420</td>\n      <td>0</td>\n      <td>82</td>\n      <td>0</td>\n      <td>0</td>\n      <td>1</td>\n    </tr>\n  </tbody>\n</table>\n<p>2275 rows \u00d7 6 columns</p>\n</div>",
                        "text/plain": "           fever  bodyPain  age  runnyNose  diffBreath  infectionProb\n0      97.784580         0   51          0           1              0\n1     100.187984         1   79          0           1              0\n2     100.838977         0   81          1           1              0\n3      97.455994         0   17          0          -1              0\n4      98.473230         0   48          0           1              1\n5     100.311724         1   36          1           0              0\n6      98.625183         1   35          0           0              1\n7      97.697418         0   99          0           1              0\n8     100.734535         1   47          0           0              0\n9     100.735405         0   64          0          -1              1\n10     97.328843         0   16          1           1              1\n11     97.484206         1   94          1           0              1\n12     99.700346         1   28          1          -1              1\n13     97.862108         1   57          1          -1              1\n14    100.703156         1    9          1          -1              0\n15     99.943704         1   54          0          -1              0\n16     99.846167         1   39          0           0              1\n17     98.071585         1   84          1           1              0\n18    100.787850         0    3          0           0              0\n19     99.318770         0   95          0           1              1\n20     98.814713         1   26          0           0              1\n21     97.634608         0    7          1          -1              0\n22     99.470235         1   46          0           1              0\n23     99.657235         0   38          0           0              0\n24    100.645917         0    0          0           1              1\n25     99.507992         1   15          1          -1              0\n26    100.789260         1   62          0           0              1\n27    100.985346         1   21          1          -1              0\n28     98.156717         1   75          1           0              1\n29     98.140420         1    8          1          -1              1\n...          ...       ...  ...        ...         ...            ...\n2245   99.061297         1   46          1          -1              1\n2246   98.719925         0   36          1           1              0\n2247   98.102327         0   32          1           0              0\n2248   99.042230         0  100          1           1              0\n2249   97.124860         1   41          1           0              1\n2250   97.505658         0   53          0           1              0\n2251   98.060764         0   46          0           0              1\n2252  100.587615         0   71          0           1              0\n2253   99.312626         0   29          0           0              1\n2254   99.051154         1   98          1           0              1\n2255   98.337541         0   84          1           1              1\n2256   98.674697         0    4          0           1              1\n2257  100.538396         0   97          0           1              1\n2258  100.340706         0   16          0           0              0\n2259   99.035123         1   13          0           1              1\n2260   97.215474         0   19          1           1              1\n2261   99.474916         0   29          0           1              1\n2262  100.002892         0   86          0           1              1\n2263  100.925130         0   99          0           0              0\n2264   98.143359         0    9          0           1              0\n2265  100.037094         0    4          1           1              1\n2266  100.954832         1   74          1          -1              0\n2267   97.646866         0   54          0           1              1\n2268   98.670778         0   84          1          -1              0\n2269   97.877651         0   45          1          -1              0\n2270   98.344591         1   18          0          -1              1\n2271   97.945532         0   52          1           0              0\n2272   97.836398         0   84          0           1              0\n2273   99.298029         0   43          1          -1              0\n2274  100.078420         0   82          0           0              1\n\n[2275 rows x 6 columns]"
                    },
                    "execution_count": 14,
                    "metadata": {},
                    "output_type": "execute_result"
                }
            ],
            "source": "df"
        },
        {
            "cell_type": "code",
            "execution_count": 6,
            "metadata": {},
            "outputs": [
                {
                    "data": {
                        "text/html": "<div>\n<style scoped>\n    .dataframe tbody tr th:only-of-type {\n        vertical-align: middle;\n    }\n\n    .dataframe tbody tr th {\n        vertical-align: top;\n    }\n\n    .dataframe thead th {\n        text-align: right;\n    }\n</style>\n<table border=\"1\" class=\"dataframe\">\n  <thead>\n    <tr style=\"text-align: right;\">\n      <th></th>\n      <th>fever</th>\n      <th>bodyPain</th>\n      <th>age</th>\n      <th>runnyNose</th>\n      <th>diffBreath</th>\n      <th>infectionProb</th>\n    </tr>\n  </thead>\n  <tbody>\n    <tr>\n      <th>2265</th>\n      <td>100.037094</td>\n      <td>0</td>\n      <td>4</td>\n      <td>1</td>\n      <td>1</td>\n      <td>1</td>\n    </tr>\n    <tr>\n      <th>2266</th>\n      <td>100.954832</td>\n      <td>1</td>\n      <td>74</td>\n      <td>1</td>\n      <td>-1</td>\n      <td>0</td>\n    </tr>\n    <tr>\n      <th>2267</th>\n      <td>97.646866</td>\n      <td>0</td>\n      <td>54</td>\n      <td>0</td>\n      <td>1</td>\n      <td>1</td>\n    </tr>\n    <tr>\n      <th>2268</th>\n      <td>98.670778</td>\n      <td>0</td>\n      <td>84</td>\n      <td>1</td>\n      <td>-1</td>\n      <td>0</td>\n    </tr>\n    <tr>\n      <th>2269</th>\n      <td>97.877651</td>\n      <td>0</td>\n      <td>45</td>\n      <td>1</td>\n      <td>-1</td>\n      <td>0</td>\n    </tr>\n    <tr>\n      <th>2270</th>\n      <td>98.344591</td>\n      <td>1</td>\n      <td>18</td>\n      <td>0</td>\n      <td>-1</td>\n      <td>1</td>\n    </tr>\n    <tr>\n      <th>2271</th>\n      <td>97.945532</td>\n      <td>0</td>\n      <td>52</td>\n      <td>1</td>\n      <td>0</td>\n      <td>0</td>\n    </tr>\n    <tr>\n      <th>2272</th>\n      <td>97.836398</td>\n      <td>0</td>\n      <td>84</td>\n      <td>0</td>\n      <td>1</td>\n      <td>0</td>\n    </tr>\n    <tr>\n      <th>2273</th>\n      <td>99.298029</td>\n      <td>0</td>\n      <td>43</td>\n      <td>1</td>\n      <td>-1</td>\n      <td>0</td>\n    </tr>\n    <tr>\n      <th>2274</th>\n      <td>100.078420</td>\n      <td>0</td>\n      <td>82</td>\n      <td>0</td>\n      <td>0</td>\n      <td>1</td>\n    </tr>\n  </tbody>\n</table>\n</div>",
                        "text/plain": "           fever  bodyPain  age  runnyNose  diffBreath  infectionProb\n2265  100.037094         0    4          1           1              1\n2266  100.954832         1   74          1          -1              0\n2267   97.646866         0   54          0           1              1\n2268   98.670778         0   84          1          -1              0\n2269   97.877651         0   45          1          -1              0\n2270   98.344591         1   18          0          -1              1\n2271   97.945532         0   52          1           0              0\n2272   97.836398         0   84          0           1              0\n2273   99.298029         0   43          1          -1              0\n2274  100.078420         0   82          0           0              1"
                    },
                    "execution_count": 6,
                    "metadata": {},
                    "output_type": "execute_result"
                }
            ],
            "source": "df.tail(10)"
        },
        {
            "cell_type": "code",
            "execution_count": 7,
            "metadata": {},
            "outputs": [
                {
                    "name": "stdout",
                    "output_type": "stream",
                    "text": "<class 'pandas.core.frame.DataFrame'>\nRangeIndex: 2275 entries, 0 to 2274\nData columns (total 6 columns):\n #   Column         Non-Null Count  Dtype  \n---  ------         --------------  -----  \n 0   fever          2275 non-null   float64\n 1   bodyPain       2275 non-null   int64  \n 2   age            2275 non-null   int64  \n 3   runnyNose      2275 non-null   int64  \n 4   diffBreath     2275 non-null   int64  \n 5   infectionProb  2275 non-null   int64  \ndtypes: float64(1), int64(5)\nmemory usage: 106.8 KB\n"
                }
            ],
            "source": "df.info()"
        },
        {
            "cell_type": "code",
            "execution_count": 8,
            "metadata": {},
            "outputs": [
                {
                    "data": {
                        "text/plain": " 1    764\n-1    760\n 0    751\nName: diffBreath, dtype: int64"
                    },
                    "execution_count": 8,
                    "metadata": {},
                    "output_type": "execute_result"
                }
            ],
            "source": "df['diffBreath'].value_counts()"
        },
        {
            "cell_type": "code",
            "execution_count": 9,
            "metadata": {},
            "outputs": [
                {
                    "data": {
                        "text/html": "<div>\n<style scoped>\n    .dataframe tbody tr th:only-of-type {\n        vertical-align: middle;\n    }\n\n    .dataframe tbody tr th {\n        vertical-align: top;\n    }\n\n    .dataframe thead th {\n        text-align: right;\n    }\n</style>\n<table border=\"1\" class=\"dataframe\">\n  <thead>\n    <tr style=\"text-align: right;\">\n      <th></th>\n      <th>fever</th>\n      <th>bodyPain</th>\n      <th>age</th>\n      <th>runnyNose</th>\n      <th>diffBreath</th>\n      <th>infectionProb</th>\n    </tr>\n  </thead>\n  <tbody>\n    <tr>\n      <th>count</th>\n      <td>2275.000000</td>\n      <td>2275.000000</td>\n      <td>2275.000000</td>\n      <td>2275.000000</td>\n      <td>2275.000000</td>\n      <td>2275.000000</td>\n    </tr>\n    <tr>\n      <th>mean</th>\n      <td>99.005647</td>\n      <td>0.516484</td>\n      <td>48.438681</td>\n      <td>0.504615</td>\n      <td>0.001758</td>\n      <td>0.483956</td>\n    </tr>\n    <tr>\n      <th>std</th>\n      <td>1.158416</td>\n      <td>0.499838</td>\n      <td>29.323689</td>\n      <td>0.500089</td>\n      <td>0.818646</td>\n      <td>0.499852</td>\n    </tr>\n    <tr>\n      <th>min</th>\n      <td>97.005016</td>\n      <td>0.000000</td>\n      <td>0.000000</td>\n      <td>0.000000</td>\n      <td>-1.000000</td>\n      <td>0.000000</td>\n    </tr>\n    <tr>\n      <th>25%</th>\n      <td>98.007091</td>\n      <td>0.000000</td>\n      <td>23.000000</td>\n      <td>0.000000</td>\n      <td>-1.000000</td>\n      <td>0.000000</td>\n    </tr>\n    <tr>\n      <th>50%</th>\n      <td>98.983539</td>\n      <td>1.000000</td>\n      <td>48.000000</td>\n      <td>1.000000</td>\n      <td>0.000000</td>\n      <td>0.000000</td>\n    </tr>\n    <tr>\n      <th>75%</th>\n      <td>100.021038</td>\n      <td>1.000000</td>\n      <td>75.000000</td>\n      <td>1.000000</td>\n      <td>1.000000</td>\n      <td>1.000000</td>\n    </tr>\n    <tr>\n      <th>max</th>\n      <td>100.995193</td>\n      <td>1.000000</td>\n      <td>100.000000</td>\n      <td>1.000000</td>\n      <td>1.000000</td>\n      <td>1.000000</td>\n    </tr>\n  </tbody>\n</table>\n</div>",
                        "text/plain": "             fever     bodyPain          age    runnyNose   diffBreath  \\\ncount  2275.000000  2275.000000  2275.000000  2275.000000  2275.000000   \nmean     99.005647     0.516484    48.438681     0.504615     0.001758   \nstd       1.158416     0.499838    29.323689     0.500089     0.818646   \nmin      97.005016     0.000000     0.000000     0.000000    -1.000000   \n25%      98.007091     0.000000    23.000000     0.000000    -1.000000   \n50%      98.983539     1.000000    48.000000     1.000000     0.000000   \n75%     100.021038     1.000000    75.000000     1.000000     1.000000   \nmax     100.995193     1.000000   100.000000     1.000000     1.000000   \n\n       infectionProb  \ncount    2275.000000  \nmean        0.483956  \nstd         0.499852  \nmin         0.000000  \n25%         0.000000  \n50%         0.000000  \n75%         1.000000  \nmax         1.000000  "
                    },
                    "execution_count": 9,
                    "metadata": {},
                    "output_type": "execute_result"
                }
            ],
            "source": "df.describe()"
        },
        {
            "cell_type": "code",
            "execution_count": 15,
            "metadata": {},
            "outputs": [],
            "source": "import numpy as np"
        },
        {
            "cell_type": "code",
            "execution_count": 16,
            "metadata": {},
            "outputs": [],
            "source": "def data_split(data, ratio):\n    np.random.seed(42)\n    shuffled = np.random.permutation(len(data))\n    test_set_size = int(len(data) * ratio)\n    test_indices = shuffled[:test_set_size]\n    train_indices = shuffled[test_set_size:]\n    return data.iloc[train_indices], data.iloc[test_indices]"
        },
        {
            "cell_type": "code",
            "execution_count": 17,
            "metadata": {},
            "outputs": [
                {
                    "data": {
                        "text/plain": "array([2, 3, 0, 4, 1, 5, 6])"
                    },
                    "execution_count": 17,
                    "metadata": {},
                    "output_type": "execute_result"
                }
            ],
            "source": "np.random.permutation(7)"
        },
        {
            "cell_type": "code",
            "execution_count": 18,
            "metadata": {},
            "outputs": [],
            "source": "train, test = data_split(df, 0.2)"
        },
        {
            "cell_type": "code",
            "execution_count": 19,
            "metadata": {},
            "outputs": [
                {
                    "data": {
                        "text/html": "<div>\n<style scoped>\n    .dataframe tbody tr th:only-of-type {\n        vertical-align: middle;\n    }\n\n    .dataframe tbody tr th {\n        vertical-align: top;\n    }\n\n    .dataframe thead th {\n        text-align: right;\n    }\n</style>\n<table border=\"1\" class=\"dataframe\">\n  <thead>\n    <tr style=\"text-align: right;\">\n      <th></th>\n      <th>fever</th>\n      <th>bodyPain</th>\n      <th>age</th>\n      <th>runnyNose</th>\n      <th>diffBreath</th>\n      <th>infectionProb</th>\n    </tr>\n  </thead>\n  <tbody>\n    <tr>\n      <th>1523</th>\n      <td>98.478332</td>\n      <td>1</td>\n      <td>15</td>\n      <td>0</td>\n      <td>1</td>\n      <td>1</td>\n    </tr>\n    <tr>\n      <th>1786</th>\n      <td>98.721089</td>\n      <td>0</td>\n      <td>47</td>\n      <td>1</td>\n      <td>0</td>\n      <td>1</td>\n    </tr>\n    <tr>\n      <th>1962</th>\n      <td>98.543219</td>\n      <td>1</td>\n      <td>11</td>\n      <td>1</td>\n      <td>-1</td>\n      <td>0</td>\n    </tr>\n    <tr>\n      <th>8</th>\n      <td>100.734535</td>\n      <td>1</td>\n      <td>47</td>\n      <td>0</td>\n      <td>0</td>\n      <td>0</td>\n    </tr>\n    <tr>\n      <th>1691</th>\n      <td>99.048457</td>\n      <td>0</td>\n      <td>94</td>\n      <td>0</td>\n      <td>0</td>\n      <td>1</td>\n    </tr>\n    <tr>\n      <th>2110</th>\n      <td>98.446965</td>\n      <td>1</td>\n      <td>54</td>\n      <td>0</td>\n      <td>1</td>\n      <td>0</td>\n    </tr>\n    <tr>\n      <th>450</th>\n      <td>99.426525</td>\n      <td>0</td>\n      <td>58</td>\n      <td>1</td>\n      <td>0</td>\n      <td>0</td>\n    </tr>\n    <tr>\n      <th>316</th>\n      <td>99.141938</td>\n      <td>1</td>\n      <td>34</td>\n      <td>1</td>\n      <td>-1</td>\n      <td>0</td>\n    </tr>\n    <tr>\n      <th>1859</th>\n      <td>97.463938</td>\n      <td>1</td>\n      <td>60</td>\n      <td>0</td>\n      <td>0</td>\n      <td>0</td>\n    </tr>\n    <tr>\n      <th>812</th>\n      <td>100.598908</td>\n      <td>0</td>\n      <td>9</td>\n      <td>1</td>\n      <td>1</td>\n      <td>1</td>\n    </tr>\n    <tr>\n      <th>1909</th>\n      <td>98.558545</td>\n      <td>1</td>\n      <td>4</td>\n      <td>1</td>\n      <td>1</td>\n      <td>1</td>\n    </tr>\n    <tr>\n      <th>427</th>\n      <td>98.225170</td>\n      <td>1</td>\n      <td>9</td>\n      <td>0</td>\n      <td>-1</td>\n      <td>0</td>\n    </tr>\n    <tr>\n      <th>374</th>\n      <td>97.143476</td>\n      <td>1</td>\n      <td>1</td>\n      <td>1</td>\n      <td>0</td>\n      <td>0</td>\n    </tr>\n    <tr>\n      <th>105</th>\n      <td>99.815690</td>\n      <td>0</td>\n      <td>68</td>\n      <td>0</td>\n      <td>-1</td>\n      <td>1</td>\n    </tr>\n    <tr>\n      <th>1601</th>\n      <td>98.366165</td>\n      <td>1</td>\n      <td>67</td>\n      <td>0</td>\n      <td>0</td>\n      <td>0</td>\n    </tr>\n    <tr>\n      <th>121</th>\n      <td>98.867442</td>\n      <td>0</td>\n      <td>4</td>\n      <td>0</td>\n      <td>1</td>\n      <td>1</td>\n    </tr>\n    <tr>\n      <th>173</th>\n      <td>99.498666</td>\n      <td>0</td>\n      <td>86</td>\n      <td>0</td>\n      <td>-1</td>\n      <td>0</td>\n    </tr>\n    <tr>\n      <th>1511</th>\n      <td>99.021009</td>\n      <td>1</td>\n      <td>57</td>\n      <td>1</td>\n      <td>-1</td>\n      <td>0</td>\n    </tr>\n    <tr>\n      <th>765</th>\n      <td>100.088283</td>\n      <td>0</td>\n      <td>44</td>\n      <td>1</td>\n      <td>-1</td>\n      <td>0</td>\n    </tr>\n    <tr>\n      <th>1709</th>\n      <td>98.787072</td>\n      <td>0</td>\n      <td>11</td>\n      <td>1</td>\n      <td>-1</td>\n      <td>1</td>\n    </tr>\n    <tr>\n      <th>1898</th>\n      <td>100.065248</td>\n      <td>1</td>\n      <td>61</td>\n      <td>0</td>\n      <td>1</td>\n      <td>0</td>\n    </tr>\n    <tr>\n      <th>1444</th>\n      <td>99.542996</td>\n      <td>1</td>\n      <td>45</td>\n      <td>0</td>\n      <td>1</td>\n      <td>1</td>\n    </tr>\n    <tr>\n      <th>915</th>\n      <td>99.559527</td>\n      <td>1</td>\n      <td>2</td>\n      <td>1</td>\n      <td>-1</td>\n      <td>1</td>\n    </tr>\n    <tr>\n      <th>1845</th>\n      <td>99.974983</td>\n      <td>1</td>\n      <td>94</td>\n      <td>1</td>\n      <td>1</td>\n      <td>1</td>\n    </tr>\n    <tr>\n      <th>115</th>\n      <td>98.182894</td>\n      <td>0</td>\n      <td>24</td>\n      <td>1</td>\n      <td>-1</td>\n      <td>0</td>\n    </tr>\n    <tr>\n      <th>76</th>\n      <td>98.001094</td>\n      <td>0</td>\n      <td>52</td>\n      <td>0</td>\n      <td>-1</td>\n      <td>1</td>\n    </tr>\n    <tr>\n      <th>416</th>\n      <td>99.121863</td>\n      <td>1</td>\n      <td>4</td>\n      <td>0</td>\n      <td>0</td>\n      <td>1</td>\n    </tr>\n    <tr>\n      <th>613</th>\n      <td>99.987739</td>\n      <td>1</td>\n      <td>70</td>\n      <td>1</td>\n      <td>-1</td>\n      <td>0</td>\n    </tr>\n    <tr>\n      <th>2008</th>\n      <td>97.964379</td>\n      <td>1</td>\n      <td>40</td>\n      <td>1</td>\n      <td>1</td>\n      <td>1</td>\n    </tr>\n    <tr>\n      <th>610</th>\n      <td>98.386302</td>\n      <td>0</td>\n      <td>77</td>\n      <td>1</td>\n      <td>0</td>\n      <td>0</td>\n    </tr>\n    <tr>\n      <th>...</th>\n      <td>...</td>\n      <td>...</td>\n      <td>...</td>\n      <td>...</td>\n      <td>...</td>\n      <td>...</td>\n    </tr>\n    <tr>\n      <th>1267</th>\n      <td>100.377533</td>\n      <td>1</td>\n      <td>81</td>\n      <td>0</td>\n      <td>1</td>\n      <td>1</td>\n    </tr>\n    <tr>\n      <th>1899</th>\n      <td>100.037278</td>\n      <td>1</td>\n      <td>98</td>\n      <td>0</td>\n      <td>1</td>\n      <td>0</td>\n    </tr>\n    <tr>\n      <th>562</th>\n      <td>97.856045</td>\n      <td>1</td>\n      <td>77</td>\n      <td>1</td>\n      <td>0</td>\n      <td>0</td>\n    </tr>\n    <tr>\n      <th>189</th>\n      <td>98.060713</td>\n      <td>1</td>\n      <td>67</td>\n      <td>1</td>\n      <td>1</td>\n      <td>0</td>\n    </tr>\n    <tr>\n      <th>1806</th>\n      <td>98.064059</td>\n      <td>1</td>\n      <td>58</td>\n      <td>0</td>\n      <td>-1</td>\n      <td>1</td>\n    </tr>\n    <tr>\n      <th>975</th>\n      <td>100.143832</td>\n      <td>0</td>\n      <td>73</td>\n      <td>1</td>\n      <td>-1</td>\n      <td>1</td>\n    </tr>\n    <tr>\n      <th>2047</th>\n      <td>99.259332</td>\n      <td>1</td>\n      <td>49</td>\n      <td>0</td>\n      <td>0</td>\n      <td>0</td>\n    </tr>\n    <tr>\n      <th>1082</th>\n      <td>99.590183</td>\n      <td>0</td>\n      <td>1</td>\n      <td>0</td>\n      <td>-1</td>\n      <td>0</td>\n    </tr>\n    <tr>\n      <th>474</th>\n      <td>99.719818</td>\n      <td>0</td>\n      <td>96</td>\n      <td>1</td>\n      <td>0</td>\n      <td>0</td>\n    </tr>\n    <tr>\n      <th>747</th>\n      <td>98.027561</td>\n      <td>0</td>\n      <td>27</td>\n      <td>1</td>\n      <td>1</td>\n      <td>1</td>\n    </tr>\n    <tr>\n      <th>21</th>\n      <td>97.634608</td>\n      <td>0</td>\n      <td>7</td>\n      <td>1</td>\n      <td>-1</td>\n      <td>0</td>\n    </tr>\n    <tr>\n      <th>459</th>\n      <td>99.115396</td>\n      <td>0</td>\n      <td>57</td>\n      <td>1</td>\n      <td>-1</td>\n      <td>1</td>\n    </tr>\n    <tr>\n      <th>1184</th>\n      <td>97.910424</td>\n      <td>0</td>\n      <td>83</td>\n      <td>0</td>\n      <td>0</td>\n      <td>1</td>\n    </tr>\n    <tr>\n      <th>955</th>\n      <td>98.657336</td>\n      <td>0</td>\n      <td>57</td>\n      <td>0</td>\n      <td>1</td>\n      <td>0</td>\n    </tr>\n    <tr>\n      <th>1215</th>\n      <td>97.485756</td>\n      <td>0</td>\n      <td>95</td>\n      <td>0</td>\n      <td>1</td>\n      <td>0</td>\n    </tr>\n    <tr>\n      <th>1515</th>\n      <td>98.470679</td>\n      <td>1</td>\n      <td>64</td>\n      <td>1</td>\n      <td>-1</td>\n      <td>1</td>\n    </tr>\n    <tr>\n      <th>769</th>\n      <td>99.542899</td>\n      <td>1</td>\n      <td>98</td>\n      <td>0</td>\n      <td>1</td>\n      <td>0</td>\n    </tr>\n    <tr>\n      <th>1685</th>\n      <td>100.400277</td>\n      <td>0</td>\n      <td>99</td>\n      <td>0</td>\n      <td>0</td>\n      <td>0</td>\n    </tr>\n    <tr>\n      <th>130</th>\n      <td>98.699606</td>\n      <td>0</td>\n      <td>62</td>\n      <td>0</td>\n      <td>0</td>\n      <td>0</td>\n    </tr>\n    <tr>\n      <th>2135</th>\n      <td>98.579773</td>\n      <td>1</td>\n      <td>71</td>\n      <td>0</td>\n      <td>1</td>\n      <td>1</td>\n    </tr>\n    <tr>\n      <th>1482</th>\n      <td>97.668651</td>\n      <td>1</td>\n      <td>89</td>\n      <td>1</td>\n      <td>-1</td>\n      <td>1</td>\n    </tr>\n    <tr>\n      <th>330</th>\n      <td>99.615434</td>\n      <td>1</td>\n      <td>71</td>\n      <td>0</td>\n      <td>-1</td>\n      <td>0</td>\n    </tr>\n    <tr>\n      <th>1238</th>\n      <td>97.629602</td>\n      <td>0</td>\n      <td>68</td>\n      <td>0</td>\n      <td>0</td>\n      <td>1</td>\n    </tr>\n    <tr>\n      <th>466</th>\n      <td>100.549359</td>\n      <td>0</td>\n      <td>0</td>\n      <td>0</td>\n      <td>0</td>\n      <td>0</td>\n    </tr>\n    <tr>\n      <th>2169</th>\n      <td>99.074682</td>\n      <td>1</td>\n      <td>81</td>\n      <td>0</td>\n      <td>-1</td>\n      <td>0</td>\n    </tr>\n    <tr>\n      <th>1638</th>\n      <td>97.218282</td>\n      <td>1</td>\n      <td>88</td>\n      <td>0</td>\n      <td>0</td>\n      <td>1</td>\n    </tr>\n    <tr>\n      <th>1095</th>\n      <td>99.277897</td>\n      <td>0</td>\n      <td>46</td>\n      <td>1</td>\n      <td>-1</td>\n      <td>1</td>\n    </tr>\n    <tr>\n      <th>1130</th>\n      <td>97.560564</td>\n      <td>1</td>\n      <td>6</td>\n      <td>1</td>\n      <td>0</td>\n      <td>0</td>\n    </tr>\n    <tr>\n      <th>1294</th>\n      <td>99.443152</td>\n      <td>0</td>\n      <td>7</td>\n      <td>0</td>\n      <td>0</td>\n      <td>0</td>\n    </tr>\n    <tr>\n      <th>860</th>\n      <td>100.123163</td>\n      <td>0</td>\n      <td>90</td>\n      <td>0</td>\n      <td>0</td>\n      <td>1</td>\n    </tr>\n  </tbody>\n</table>\n<p>1820 rows \u00d7 6 columns</p>\n</div>",
                        "text/plain": "           fever  bodyPain  age  runnyNose  diffBreath  infectionProb\n1523   98.478332         1   15          0           1              1\n1786   98.721089         0   47          1           0              1\n1962   98.543219         1   11          1          -1              0\n8     100.734535         1   47          0           0              0\n1691   99.048457         0   94          0           0              1\n2110   98.446965         1   54          0           1              0\n450    99.426525         0   58          1           0              0\n316    99.141938         1   34          1          -1              0\n1859   97.463938         1   60          0           0              0\n812   100.598908         0    9          1           1              1\n1909   98.558545         1    4          1           1              1\n427    98.225170         1    9          0          -1              0\n374    97.143476         1    1          1           0              0\n105    99.815690         0   68          0          -1              1\n1601   98.366165         1   67          0           0              0\n121    98.867442         0    4          0           1              1\n173    99.498666         0   86          0          -1              0\n1511   99.021009         1   57          1          -1              0\n765   100.088283         0   44          1          -1              0\n1709   98.787072         0   11          1          -1              1\n1898  100.065248         1   61          0           1              0\n1444   99.542996         1   45          0           1              1\n915    99.559527         1    2          1          -1              1\n1845   99.974983         1   94          1           1              1\n115    98.182894         0   24          1          -1              0\n76     98.001094         0   52          0          -1              1\n416    99.121863         1    4          0           0              1\n613    99.987739         1   70          1          -1              0\n2008   97.964379         1   40          1           1              1\n610    98.386302         0   77          1           0              0\n...          ...       ...  ...        ...         ...            ...\n1267  100.377533         1   81          0           1              1\n1899  100.037278         1   98          0           1              0\n562    97.856045         1   77          1           0              0\n189    98.060713         1   67          1           1              0\n1806   98.064059         1   58          0          -1              1\n975   100.143832         0   73          1          -1              1\n2047   99.259332         1   49          0           0              0\n1082   99.590183         0    1          0          -1              0\n474    99.719818         0   96          1           0              0\n747    98.027561         0   27          1           1              1\n21     97.634608         0    7          1          -1              0\n459    99.115396         0   57          1          -1              1\n1184   97.910424         0   83          0           0              1\n955    98.657336         0   57          0           1              0\n1215   97.485756         0   95          0           1              0\n1515   98.470679         1   64          1          -1              1\n769    99.542899         1   98          0           1              0\n1685  100.400277         0   99          0           0              0\n130    98.699606         0   62          0           0              0\n2135   98.579773         1   71          0           1              1\n1482   97.668651         1   89          1          -1              1\n330    99.615434         1   71          0          -1              0\n1238   97.629602         0   68          0           0              1\n466   100.549359         0    0          0           0              0\n2169   99.074682         1   81          0          -1              0\n1638   97.218282         1   88          0           0              1\n1095   99.277897         0   46          1          -1              1\n1130   97.560564         1    6          1           0              0\n1294   99.443152         0    7          0           0              0\n860   100.123163         0   90          0           0              1\n\n[1820 rows x 6 columns]"
                    },
                    "execution_count": 19,
                    "metadata": {},
                    "output_type": "execute_result"
                }
            ],
            "source": "train"
        },
        {
            "cell_type": "code",
            "execution_count": 20,
            "metadata": {},
            "outputs": [
                {
                    "data": {
                        "text/html": "<div>\n<style scoped>\n    .dataframe tbody tr th:only-of-type {\n        vertical-align: middle;\n    }\n\n    .dataframe tbody tr th {\n        vertical-align: top;\n    }\n\n    .dataframe thead th {\n        text-align: right;\n    }\n</style>\n<table border=\"1\" class=\"dataframe\">\n  <thead>\n    <tr style=\"text-align: right;\">\n      <th></th>\n      <th>fever</th>\n      <th>bodyPain</th>\n      <th>age</th>\n      <th>runnyNose</th>\n      <th>diffBreath</th>\n      <th>infectionProb</th>\n    </tr>\n  </thead>\n  <tbody>\n    <tr>\n      <th>2064</th>\n      <td>99.670483</td>\n      <td>0</td>\n      <td>26</td>\n      <td>0</td>\n      <td>1</td>\n      <td>1</td>\n    </tr>\n    <tr>\n      <th>1321</th>\n      <td>97.806860</td>\n      <td>0</td>\n      <td>16</td>\n      <td>0</td>\n      <td>1</td>\n      <td>1</td>\n    </tr>\n    <tr>\n      <th>859</th>\n      <td>98.414240</td>\n      <td>1</td>\n      <td>60</td>\n      <td>0</td>\n      <td>0</td>\n      <td>1</td>\n    </tr>\n    <tr>\n      <th>408</th>\n      <td>98.921074</td>\n      <td>0</td>\n      <td>0</td>\n      <td>0</td>\n      <td>1</td>\n      <td>1</td>\n    </tr>\n    <tr>\n      <th>629</th>\n      <td>99.241710</td>\n      <td>1</td>\n      <td>27</td>\n      <td>1</td>\n      <td>0</td>\n      <td>1</td>\n    </tr>\n    <tr>\n      <th>1344</th>\n      <td>99.733845</td>\n      <td>0</td>\n      <td>24</td>\n      <td>1</td>\n      <td>0</td>\n      <td>1</td>\n    </tr>\n    <tr>\n      <th>527</th>\n      <td>97.598287</td>\n      <td>1</td>\n      <td>15</td>\n      <td>0</td>\n      <td>0</td>\n      <td>1</td>\n    </tr>\n    <tr>\n      <th>29</th>\n      <td>98.140420</td>\n      <td>1</td>\n      <td>8</td>\n      <td>1</td>\n      <td>-1</td>\n      <td>1</td>\n    </tr>\n    <tr>\n      <th>254</th>\n      <td>100.408016</td>\n      <td>1</td>\n      <td>87</td>\n      <td>0</td>\n      <td>-1</td>\n      <td>1</td>\n    </tr>\n    <tr>\n      <th>1207</th>\n      <td>98.221463</td>\n      <td>0</td>\n      <td>46</td>\n      <td>0</td>\n      <td>-1</td>\n      <td>0</td>\n    </tr>\n    <tr>\n      <th>1422</th>\n      <td>98.581058</td>\n      <td>1</td>\n      <td>26</td>\n      <td>0</td>\n      <td>0</td>\n      <td>0</td>\n    </tr>\n    <tr>\n      <th>1427</th>\n      <td>98.843939</td>\n      <td>0</td>\n      <td>67</td>\n      <td>1</td>\n      <td>0</td>\n      <td>1</td>\n    </tr>\n    <tr>\n      <th>1592</th>\n      <td>98.607502</td>\n      <td>1</td>\n      <td>68</td>\n      <td>1</td>\n      <td>0</td>\n      <td>1</td>\n    </tr>\n    <tr>\n      <th>1889</th>\n      <td>99.001267</td>\n      <td>0</td>\n      <td>22</td>\n      <td>0</td>\n      <td>0</td>\n      <td>0</td>\n    </tr>\n    <tr>\n      <th>303</th>\n      <td>100.889343</td>\n      <td>1</td>\n      <td>94</td>\n      <td>0</td>\n      <td>1</td>\n      <td>1</td>\n    </tr>\n    <tr>\n      <th>1245</th>\n      <td>98.736303</td>\n      <td>0</td>\n      <td>27</td>\n      <td>1</td>\n      <td>1</td>\n      <td>1</td>\n    </tr>\n    <tr>\n      <th>1259</th>\n      <td>99.560015</td>\n      <td>0</td>\n      <td>14</td>\n      <td>0</td>\n      <td>0</td>\n      <td>1</td>\n    </tr>\n    <tr>\n      <th>2107</th>\n      <td>97.419253</td>\n      <td>1</td>\n      <td>64</td>\n      <td>1</td>\n      <td>1</td>\n      <td>1</td>\n    </tr>\n    <tr>\n      <th>2012</th>\n      <td>98.494247</td>\n      <td>0</td>\n      <td>68</td>\n      <td>0</td>\n      <td>1</td>\n      <td>0</td>\n    </tr>\n    <tr>\n      <th>1360</th>\n      <td>100.928854</td>\n      <td>1</td>\n      <td>41</td>\n      <td>0</td>\n      <td>1</td>\n      <td>0</td>\n    </tr>\n    <tr>\n      <th>1864</th>\n      <td>97.517970</td>\n      <td>0</td>\n      <td>39</td>\n      <td>1</td>\n      <td>0</td>\n      <td>0</td>\n    </tr>\n    <tr>\n      <th>2132</th>\n      <td>97.431762</td>\n      <td>1</td>\n      <td>80</td>\n      <td>1</td>\n      <td>1</td>\n      <td>1</td>\n    </tr>\n    <tr>\n      <th>2121</th>\n      <td>98.774164</td>\n      <td>1</td>\n      <td>23</td>\n      <td>1</td>\n      <td>-1</td>\n      <td>1</td>\n    </tr>\n    <tr>\n      <th>1775</th>\n      <td>99.029252</td>\n      <td>1</td>\n      <td>90</td>\n      <td>1</td>\n      <td>-1</td>\n      <td>0</td>\n    </tr>\n    <tr>\n      <th>1143</th>\n      <td>98.433486</td>\n      <td>0</td>\n      <td>42</td>\n      <td>1</td>\n      <td>0</td>\n      <td>0</td>\n    </tr>\n    <tr>\n      <th>482</th>\n      <td>100.952660</td>\n      <td>0</td>\n      <td>15</td>\n      <td>1</td>\n      <td>1</td>\n      <td>1</td>\n    </tr>\n    <tr>\n      <th>1689</th>\n      <td>98.001680</td>\n      <td>0</td>\n      <td>13</td>\n      <td>0</td>\n      <td>1</td>\n      <td>1</td>\n    </tr>\n    <tr>\n      <th>134</th>\n      <td>97.607909</td>\n      <td>0</td>\n      <td>4</td>\n      <td>1</td>\n      <td>1</td>\n      <td>0</td>\n    </tr>\n    <tr>\n      <th>1287</th>\n      <td>99.932896</td>\n      <td>0</td>\n      <td>5</td>\n      <td>1</td>\n      <td>1</td>\n      <td>1</td>\n    </tr>\n    <tr>\n      <th>1593</th>\n      <td>99.094241</td>\n      <td>1</td>\n      <td>42</td>\n      <td>1</td>\n      <td>0</td>\n      <td>0</td>\n    </tr>\n    <tr>\n      <th>...</th>\n      <td>...</td>\n      <td>...</td>\n      <td>...</td>\n      <td>...</td>\n      <td>...</td>\n      <td>...</td>\n    </tr>\n    <tr>\n      <th>13</th>\n      <td>97.862108</td>\n      <td>1</td>\n      <td>57</td>\n      <td>1</td>\n      <td>-1</td>\n      <td>1</td>\n    </tr>\n    <tr>\n      <th>361</th>\n      <td>99.289832</td>\n      <td>1</td>\n      <td>9</td>\n      <td>0</td>\n      <td>1</td>\n      <td>1</td>\n    </tr>\n    <tr>\n      <th>1452</th>\n      <td>100.742597</td>\n      <td>0</td>\n      <td>10</td>\n      <td>1</td>\n      <td>-1</td>\n      <td>0</td>\n    </tr>\n    <tr>\n      <th>296</th>\n      <td>98.020087</td>\n      <td>0</td>\n      <td>56</td>\n      <td>0</td>\n      <td>1</td>\n      <td>1</td>\n    </tr>\n    <tr>\n      <th>1146</th>\n      <td>100.031148</td>\n      <td>1</td>\n      <td>30</td>\n      <td>0</td>\n      <td>-1</td>\n      <td>1</td>\n    </tr>\n    <tr>\n      <th>1882</th>\n      <td>98.362228</td>\n      <td>0</td>\n      <td>21</td>\n      <td>1</td>\n      <td>0</td>\n      <td>1</td>\n    </tr>\n    <tr>\n      <th>440</th>\n      <td>97.881951</td>\n      <td>0</td>\n      <td>21</td>\n      <td>0</td>\n      <td>-1</td>\n      <td>0</td>\n    </tr>\n    <tr>\n      <th>409</th>\n      <td>100.731990</td>\n      <td>1</td>\n      <td>24</td>\n      <td>1</td>\n      <td>-1</td>\n      <td>0</td>\n    </tr>\n    <tr>\n      <th>564</th>\n      <td>97.246024</td>\n      <td>0</td>\n      <td>99</td>\n      <td>0</td>\n      <td>0</td>\n      <td>0</td>\n    </tr>\n    <tr>\n      <th>1912</th>\n      <td>98.505300</td>\n      <td>0</td>\n      <td>96</td>\n      <td>1</td>\n      <td>-1</td>\n      <td>1</td>\n    </tr>\n    <tr>\n      <th>611</th>\n      <td>98.869500</td>\n      <td>0</td>\n      <td>52</td>\n      <td>0</td>\n      <td>1</td>\n      <td>0</td>\n    </tr>\n    <tr>\n      <th>387</th>\n      <td>97.225336</td>\n      <td>1</td>\n      <td>54</td>\n      <td>1</td>\n      <td>1</td>\n      <td>0</td>\n    </tr>\n    <tr>\n      <th>2011</th>\n      <td>97.427034</td>\n      <td>1</td>\n      <td>65</td>\n      <td>1</td>\n      <td>1</td>\n      <td>1</td>\n    </tr>\n    <tr>\n      <th>1626</th>\n      <td>98.898135</td>\n      <td>0</td>\n      <td>35</td>\n      <td>1</td>\n      <td>-1</td>\n      <td>1</td>\n    </tr>\n    <tr>\n      <th>1341</th>\n      <td>99.513115</td>\n      <td>1</td>\n      <td>10</td>\n      <td>1</td>\n      <td>0</td>\n      <td>0</td>\n    </tr>\n    <tr>\n      <th>382</th>\n      <td>99.860786</td>\n      <td>0</td>\n      <td>57</td>\n      <td>1</td>\n      <td>-1</td>\n      <td>0</td>\n    </tr>\n    <tr>\n      <th>1564</th>\n      <td>98.450334</td>\n      <td>0</td>\n      <td>82</td>\n      <td>0</td>\n      <td>1</td>\n      <td>1</td>\n    </tr>\n    <tr>\n      <th>1315</th>\n      <td>99.372046</td>\n      <td>1</td>\n      <td>22</td>\n      <td>0</td>\n      <td>0</td>\n      <td>1</td>\n    </tr>\n    <tr>\n      <th>445</th>\n      <td>97.926501</td>\n      <td>1</td>\n      <td>8</td>\n      <td>1</td>\n      <td>1</td>\n      <td>1</td>\n    </tr>\n    <tr>\n      <th>944</th>\n      <td>99.625551</td>\n      <td>1</td>\n      <td>65</td>\n      <td>1</td>\n      <td>0</td>\n      <td>1</td>\n    </tr>\n    <tr>\n      <th>988</th>\n      <td>100.027922</td>\n      <td>0</td>\n      <td>4</td>\n      <td>1</td>\n      <td>-1</td>\n      <td>0</td>\n    </tr>\n    <tr>\n      <th>1604</th>\n      <td>98.505520</td>\n      <td>1</td>\n      <td>85</td>\n      <td>0</td>\n      <td>1</td>\n      <td>0</td>\n    </tr>\n    <tr>\n      <th>177</th>\n      <td>100.264206</td>\n      <td>1</td>\n      <td>17</td>\n      <td>0</td>\n      <td>-1</td>\n      <td>0</td>\n    </tr>\n    <tr>\n      <th>677</th>\n      <td>99.296478</td>\n      <td>0</td>\n      <td>16</td>\n      <td>0</td>\n      <td>-1</td>\n      <td>1</td>\n    </tr>\n    <tr>\n      <th>2246</th>\n      <td>98.719925</td>\n      <td>0</td>\n      <td>36</td>\n      <td>1</td>\n      <td>1</td>\n      <td>0</td>\n    </tr>\n    <tr>\n      <th>203</th>\n      <td>97.862912</td>\n      <td>0</td>\n      <td>2</td>\n      <td>1</td>\n      <td>0</td>\n      <td>1</td>\n    </tr>\n    <tr>\n      <th>1879</th>\n      <td>100.576209</td>\n      <td>0</td>\n      <td>2</td>\n      <td>1</td>\n      <td>-1</td>\n      <td>0</td>\n    </tr>\n    <tr>\n      <th>719</th>\n      <td>100.546122</td>\n      <td>0</td>\n      <td>88</td>\n      <td>0</td>\n      <td>0</td>\n      <td>1</td>\n    </tr>\n    <tr>\n      <th>1134</th>\n      <td>100.978161</td>\n      <td>0</td>\n      <td>1</td>\n      <td>0</td>\n      <td>-1</td>\n      <td>0</td>\n    </tr>\n    <tr>\n      <th>618</th>\n      <td>97.866984</td>\n      <td>1</td>\n      <td>75</td>\n      <td>1</td>\n      <td>0</td>\n      <td>0</td>\n    </tr>\n  </tbody>\n</table>\n<p>455 rows \u00d7 6 columns</p>\n</div>",
                        "text/plain": "           fever  bodyPain  age  runnyNose  diffBreath  infectionProb\n2064   99.670483         0   26          0           1              1\n1321   97.806860         0   16          0           1              1\n859    98.414240         1   60          0           0              1\n408    98.921074         0    0          0           1              1\n629    99.241710         1   27          1           0              1\n1344   99.733845         0   24          1           0              1\n527    97.598287         1   15          0           0              1\n29     98.140420         1    8          1          -1              1\n254   100.408016         1   87          0          -1              1\n1207   98.221463         0   46          0          -1              0\n1422   98.581058         1   26          0           0              0\n1427   98.843939         0   67          1           0              1\n1592   98.607502         1   68          1           0              1\n1889   99.001267         0   22          0           0              0\n303   100.889343         1   94          0           1              1\n1245   98.736303         0   27          1           1              1\n1259   99.560015         0   14          0           0              1\n2107   97.419253         1   64          1           1              1\n2012   98.494247         0   68          0           1              0\n1360  100.928854         1   41          0           1              0\n1864   97.517970         0   39          1           0              0\n2132   97.431762         1   80          1           1              1\n2121   98.774164         1   23          1          -1              1\n1775   99.029252         1   90          1          -1              0\n1143   98.433486         0   42          1           0              0\n482   100.952660         0   15          1           1              1\n1689   98.001680         0   13          0           1              1\n134    97.607909         0    4          1           1              0\n1287   99.932896         0    5          1           1              1\n1593   99.094241         1   42          1           0              0\n...          ...       ...  ...        ...         ...            ...\n13     97.862108         1   57          1          -1              1\n361    99.289832         1    9          0           1              1\n1452  100.742597         0   10          1          -1              0\n296    98.020087         0   56          0           1              1\n1146  100.031148         1   30          0          -1              1\n1882   98.362228         0   21          1           0              1\n440    97.881951         0   21          0          -1              0\n409   100.731990         1   24          1          -1              0\n564    97.246024         0   99          0           0              0\n1912   98.505300         0   96          1          -1              1\n611    98.869500         0   52          0           1              0\n387    97.225336         1   54          1           1              0\n2011   97.427034         1   65          1           1              1\n1626   98.898135         0   35          1          -1              1\n1341   99.513115         1   10          1           0              0\n382    99.860786         0   57          1          -1              0\n1564   98.450334         0   82          0           1              1\n1315   99.372046         1   22          0           0              1\n445    97.926501         1    8          1           1              1\n944    99.625551         1   65          1           0              1\n988   100.027922         0    4          1          -1              0\n1604   98.505520         1   85          0           1              0\n177   100.264206         1   17          0          -1              0\n677    99.296478         0   16          0          -1              1\n2246   98.719925         0   36          1           1              0\n203    97.862912         0    2          1           0              1\n1879  100.576209         0    2          1          -1              0\n719   100.546122         0   88          0           0              1\n1134  100.978161         0    1          0          -1              0\n618    97.866984         1   75          1           0              0\n\n[455 rows x 6 columns]"
                    },
                    "execution_count": 20,
                    "metadata": {},
                    "output_type": "execute_result"
                }
            ],
            "source": "test"
        },
        {
            "cell_type": "code",
            "execution_count": 21,
            "metadata": {},
            "outputs": [],
            "source": "X_train = train[['fever', 'bodyPain', 'age', 'runnyNose', 'diffBreath']].to_numpy()\nX_test = test[['fever', 'bodyPain', 'age', 'runnyNose', 'diffBreath']].to_numpy()"
        },
        {
            "cell_type": "code",
            "execution_count": 22,
            "metadata": {},
            "outputs": [],
            "source": "Y_train = train[['infectionProb']].to_numpy().reshape(1820 ,) \nY_test = test[['infectionProb']].to_numpy().reshape(455 ,)"
        },
        {
            "cell_type": "code",
            "execution_count": 23,
            "metadata": {},
            "outputs": [
                {
                    "data": {
                        "text/plain": "array([[ 98.47833206,   1.        ,  15.        ,   0.        ,\n          1.        ],\n       [ 98.72108922,   0.        ,  47.        ,   1.        ,\n          0.        ],\n       [ 98.54321892,   1.        ,  11.        ,   1.        ,\n         -1.        ],\n       ...,\n       [ 97.56056446,   1.        ,   6.        ,   1.        ,\n          0.        ],\n       [ 99.44315155,   0.        ,   7.        ,   0.        ,\n          0.        ],\n       [100.123163  ,   0.        ,  90.        ,   0.        ,\n          0.        ]])"
                    },
                    "execution_count": 23,
                    "metadata": {},
                    "output_type": "execute_result"
                }
            ],
            "source": "X_train"
        },
        {
            "cell_type": "code",
            "execution_count": 24,
            "metadata": {},
            "outputs": [
                {
                    "data": {
                        "text/plain": "array([1, 1, 0, ..., 0, 0, 1])"
                    },
                    "execution_count": 24,
                    "metadata": {},
                    "output_type": "execute_result"
                }
            ],
            "source": "Y_train"
        },
        {
            "cell_type": "code",
            "execution_count": 25,
            "metadata": {},
            "outputs": [
                {
                    "data": {
                        "text/plain": "array([1, 1, 0, ..., 0, 0, 1])"
                    },
                    "execution_count": 25,
                    "metadata": {},
                    "output_type": "execute_result"
                }
            ],
            "source": "Y_train"
        },
        {
            "cell_type": "code",
            "execution_count": 26,
            "metadata": {},
            "outputs": [],
            "source": "from sklearn.linear_model import LogisticRegression"
        },
        {
            "cell_type": "code",
            "execution_count": 27,
            "metadata": {},
            "outputs": [
                {
                    "name": "stderr",
                    "output_type": "stream",
                    "text": "/opt/ibm/conda/miniconda3.6/lib/python3.6/site-packages/sklearn/linear_model/logistic.py:433: FutureWarning: Default solver will be changed to 'lbfgs' in 0.22. Specify a solver to silence this warning.\n  FutureWarning)\n"
                },
                {
                    "data": {
                        "text/plain": "LogisticRegression(C=1.0, class_weight=None, dual=False, fit_intercept=True,\n          intercept_scaling=1, max_iter=100, multi_class='warn',\n          n_jobs=None, penalty='l2', random_state=None, solver='warn',\n          tol=0.0001, verbose=0, warm_start=False)"
                    },
                    "execution_count": 27,
                    "metadata": {},
                    "output_type": "execute_result"
                }
            ],
            "source": "clf = LogisticRegression()\nclf.fit(X_train, Y_train)"
        },
        {
            "cell_type": "code",
            "execution_count": 28,
            "metadata": {},
            "outputs": [],
            "source": "inputFeatures = [102, 1, 22, -1, 1]\ninfProb = clf.predict_proba([inputFeatures])[0][1]"
        },
        {
            "cell_type": "code",
            "execution_count": 29,
            "metadata": {},
            "outputs": [
                {
                    "data": {
                        "text/plain": "0.4938743128765193"
                    },
                    "execution_count": 29,
                    "metadata": {},
                    "output_type": "execute_result"
                }
            ],
            "source": "infProb"
        },
        {
            "cell_type": "code",
            "execution_count": null,
            "metadata": {},
            "outputs": [],
            "source": ""
        },
        {
            "cell_type": "code",
            "execution_count": null,
            "metadata": {},
            "outputs": [],
            "source": ""
        }
    ],
    "metadata": {
        "kernelspec": {
            "display_name": "Python 3.6 with Spark",
            "language": "python3",
            "name": "python36"
        },
        "language_info": {
            "codemirror_mode": {
                "name": "ipython",
                "version": 3
            },
            "file_extension": ".py",
            "mimetype": "text/x-python",
            "name": "python",
            "nbconvert_exporter": "python",
            "pygments_lexer": "ipython3",
            "version": "3.6.8"
        }
    },
    "nbformat": 4,
    "nbformat_minor": 4
}